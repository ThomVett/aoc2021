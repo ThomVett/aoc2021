{
 "cells": [
  {
   "cell_type": "code",
   "execution_count": 1,
   "metadata": {},
   "outputs": [],
   "source": [
    "%load_ext autoreload\n",
    "%autoreload 2"
   ]
  },
  {
   "cell_type": "markdown",
   "metadata": {},
   "source": [
    "# Load data"
   ]
  },
  {
   "cell_type": "code",
   "execution_count": 2,
   "metadata": {},
   "outputs": [],
   "source": [
    "import os\n",
    "import numpy as np\n",
    "from collections import Counter\n",
    "from aoc_python.constants import DATA_PATH\n",
    "\n",
    "with open(os.path.join(DATA_PATH, \"day_6/day_6.txt\"), \"r\") as f:\n",
    "    line = np.array(f.readlines()[0].split(\",\"), dtype=int)"
   ]
  },
  {
   "cell_type": "code",
   "execution_count": 3,
   "metadata": {},
   "outputs": [
    {
     "data": {
      "text/plain": [
       "Counter({1: 79, 5: 71, 3: 52, 2: 42, 4: 56})"
      ]
     },
     "execution_count": 3,
     "metadata": {},
     "output_type": "execute_result"
    }
   ],
   "source": [
    "Counter(line)"
   ]
  },
  {
   "cell_type": "code",
   "execution_count": 4,
   "metadata": {},
   "outputs": [
    {
     "data": {
      "text/plain": [
       "array([1, 5, 5, 1, 5, 1, 5, 3, 1, 3, 2, 4, 3, 4, 1, 1, 3, 5, 4, 4, 2, 1,\n",
       "       2, 1, 2, 1, 2, 1, 5, 2, 1, 5, 1, 2, 2, 1, 5, 5, 5, 1, 1, 1, 5, 1,\n",
       "       3, 4, 5, 1, 2, 2, 5, 5, 3, 4, 5, 4, 4, 1, 4, 5, 3, 4, 4, 5, 2, 4,\n",
       "       2, 2, 1, 3, 4, 3, 2, 3, 4, 1, 4, 4, 4, 5, 1, 3, 4, 2, 5, 4, 5, 3,\n",
       "       1, 4, 1, 1, 1, 2, 4, 2, 1, 5, 1, 4, 5, 3, 3, 4, 1, 1, 4, 3, 4, 1,\n",
       "       1, 1, 5, 4, 3, 5, 2, 4, 1, 1, 2, 3, 2, 4, 4, 3, 3, 5, 3, 1, 4, 5,\n",
       "       5, 4, 3, 3, 5, 1, 5, 3, 5, 2, 5, 1, 5, 5, 2, 3, 3, 1, 1, 2, 2, 4,\n",
       "       3, 1, 5, 1, 1, 3, 1, 4, 1, 2, 3, 5, 5, 1, 2, 3, 4, 3, 4, 1, 1, 5,\n",
       "       5, 3, 3, 4, 5, 1, 1, 4, 1, 4, 1, 3, 5, 5, 1, 4, 3, 1, 3, 5, 5, 5,\n",
       "       5, 5, 2, 2, 1, 2, 4, 1, 5, 3, 3, 5, 4, 5, 4, 1, 5, 1, 5, 1, 2, 5,\n",
       "       4, 5, 5, 3, 2, 2, 2, 5, 4, 4, 3, 3, 1, 4, 1, 2, 3, 1, 5, 4, 5, 3,\n",
       "       4, 1, 1, 2, 2, 1, 2, 5, 1, 1, 1, 5, 4, 5, 2, 1, 4, 4, 1, 1, 3, 3,\n",
       "       1, 3, 2, 1, 5, 2, 3, 4, 5, 3, 5, 4, 3, 1, 3, 5, 5, 5, 5, 2, 1, 1,\n",
       "       4, 2, 5, 1, 5, 1, 3, 4, 3, 5, 5, 1, 4, 3])"
      ]
     },
     "execution_count": 4,
     "metadata": {},
     "output_type": "execute_result"
    }
   ],
   "source": [
    "line"
   ]
  },
  {
   "cell_type": "code",
   "execution_count": 11,
   "metadata": {},
   "outputs": [],
   "source": [
    "def one_day_simluation(initial_lanternfish):\n",
    "    zeros_indexes = initial_lanternfish == 0\n",
    "    initial_lanternfish[initial_lanternfish > 0] = initial_lanternfish[initial_lanternfish > 0] - 1\n",
    "    n_zeros = (zeros_indexes).sum()\n",
    "    initial_lanternfish[zeros_indexes] = 6\n",
    "    return np.hstack([initial_lanternfish, np.ones(shape=n_zeros, dtype=np.int8) * 8])"
   ]
  },
  {
   "cell_type": "code",
   "execution_count": 12,
   "metadata": {},
   "outputs": [
    {
     "data": {
      "text/plain": [
       "array([6, 8], dtype=int8)"
      ]
     },
     "execution_count": 12,
     "metadata": {},
     "output_type": "execute_result"
    }
   ],
   "source": [
    "one_day_simluation(np.array([0], dtype=np.int8))"
   ]
  },
  {
   "cell_type": "code",
   "execution_count": 16,
   "metadata": {},
   "outputs": [
    {
     "name": "stdout",
     "output_type": "stream",
     "text": [
      "0\n",
      "10\n",
      "20\n",
      "30\n",
      "40\n",
      "50\n",
      "60\n",
      "70\n",
      "80\n",
      "90\n",
      "100\n",
      "110\n",
      "120\n",
      "130\n",
      "140\n",
      "150\n",
      "160\n",
      "170\n",
      "180\n",
      "190\n",
      "200\n",
      "210\n",
      "220\n",
      "230\n",
      "240\n",
      "250\n",
      "260\n"
     ]
    }
   ],
   "source": [
    "initial_lanternfish = line\n",
    "\n",
    "beginning = np.array([6], dtype=np.int8)\n",
    "\n",
    "ages = []\n",
    "n_fishes = []\n",
    "\n",
    "for day in range(265):\n",
    "    if day % 10 == 0:\n",
    "        print(day)\n",
    "#     print(day, beginning)\n",
    "    ages.append(day)\n",
    "    n_fishes.append(len(beginning))\n",
    "    beginning = one_day_simluation(beginning)"
   ]
  },
  {
   "cell_type": "code",
   "execution_count": 17,
   "metadata": {},
   "outputs": [
    {
     "data": {
      "text/plain": [
       "<matplotlib.collections.PathCollection at 0x7fbe3efc1700>"
      ]
     },
     "execution_count": 17,
     "metadata": {},
     "output_type": "execute_result"
    },
    {
     "data": {
      "image/png": "[encoded data removed]",
      "text/plain": [
       "<Figure size 432x288 with 1 Axes>"
      ]
     },
     "metadata": {
      "needs_background": "light"
     },
     "output_type": "display_data"
    }
   ],
   "source": [
    "import matplotlib.pyplot as plt\n",
    "\n",
    "plt.scatter(ages, n_fishes, s=10)"
   ]
  },
  {
   "cell_type": "code",
   "execution_count": 18,
   "metadata": {},
   "outputs": [
    {
     "data": {
      "text/plain": [
       "array([1, 5, 5, 1, 5, 1, 5, 3, 1, 3, 2, 4, 3, 4, 1, 1, 3, 5, 4, 4, 2, 1,\n",
       "       2, 1, 2, 1, 2, 1, 5, 2, 1, 5, 1, 2, 2, 1, 5, 5, 5, 1, 1, 1, 5, 1,\n",
       "       3, 4, 5, 1, 2, 2, 5, 5, 3, 4, 5, 4, 4, 1, 4, 5, 3, 4, 4, 5, 2, 4,\n",
       "       2, 2, 1, 3, 4, 3, 2, 3, 4, 1, 4, 4, 4, 5, 1, 3, 4, 2, 5, 4, 5, 3,\n",
       "       1, 4, 1, 1, 1, 2, 4, 2, 1, 5, 1, 4, 5, 3, 3, 4, 1, 1, 4, 3, 4, 1,\n",
       "       1, 1, 5, 4, 3, 5, 2, 4, 1, 1, 2, 3, 2, 4, 4, 3, 3, 5, 3, 1, 4, 5,\n",
       "       5, 4, 3, 3, 5, 1, 5, 3, 5, 2, 5, 1, 5, 5, 2, 3, 3, 1, 1, 2, 2, 4,\n",
       "       3, 1, 5, 1, 1, 3, 1, 4, 1, 2, 3, 5, 5, 1, 2, 3, 4, 3, 4, 1, 1, 5,\n",
       "       5, 3, 3, 4, 5, 1, 1, 4, 1, 4, 1, 3, 5, 5, 1, 4, 3, 1, 3, 5, 5, 5,\n",
       "       5, 5, 2, 2, 1, 2, 4, 1, 5, 3, 3, 5, 4, 5, 4, 1, 5, 1, 5, 1, 2, 5,\n",
       "       4, 5, 5, 3, 2, 2, 2, 5, 4, 4, 3, 3, 1, 4, 1, 2, 3, 1, 5, 4, 5, 3,\n",
       "       4, 1, 1, 2, 2, 1, 2, 5, 1, 1, 1, 5, 4, 5, 2, 1, 4, 4, 1, 1, 3, 3,\n",
       "       1, 3, 2, 1, 5, 2, 3, 4, 5, 3, 5, 4, 3, 1, 3, 5, 5, 5, 5, 2, 1, 1,\n",
       "       4, 2, 5, 1, 5, 1, 3, 4, 3, 5, 5, 1, 4, 3])"
      ]
     },
     "execution_count": 18,
     "metadata": {},
     "output_type": "execute_result"
    }
   ],
   "source": [
    "line"
   ]
  },
  {
   "cell_type": "code",
   "execution_count": 21,
   "metadata": {},
   "outputs": [],
   "source": [
    "total_fish = 0\n",
    "age = 256\n",
    "for fish_age in line:\n",
    "    total_fish += n_fishes[age + (6 - fish_age)]"
   ]
  },
  {
   "cell_type": "code",
   "execution_count": 22,
   "metadata": {},
   "outputs": [
    {
     "data": {
      "text/plain": [
       "1572358335990"
      ]
     },
     "execution_count": 22,
     "metadata": {},
     "output_type": "execute_result"
    }
   ],
   "source": [
    "total_fish"
   ]
  },
  {
   "cell_type": "code",
   "execution_count": 15,
   "metadata": {},
   "outputs": [],
   "source": [
    "from functools import lru_cache\n",
    "\n",
    "@lru_cache(maxsize=300)\n",
    "def simulate_one_lanternfish(age, n_days):\n",
    "    lanternfishlife = [age]\n",
    "    for i in range(n_days):\n",
    "        lanternfishlife = one_day_simluation(lanternfishlife)\n",
    "    return len(lanternfishlife)"
   ]
  },
  {
   "cell_type": "code",
   "execution_count": null,
   "metadata": {},
   "outputs": [],
   "source": [
    "age = 256\n",
    "total_fish = 0\n",
    "for fish_age, n_occurences in Counter(line).items(): \n",
    "    total_fish += simulate_one_lanternfish(fish_age, age) * n_occurences"
   ]
  },
  {
   "cell_type": "code",
   "execution_count": 22,
   "metadata": {},
   "outputs": [
    {
     "data": {
      "text/plain": [
       "30306966"
      ]
     },
     "execution_count": 22,
     "metadata": {},
     "output_type": "execute_result"
    }
   ],
   "source": [
    "simulate_one_lanternfish(6, 200)"
   ]
  },
  {
   "cell_type": "code",
   "execution_count": null,
   "metadata": {},
   "outputs": [],
   "source": [
    "# Initial state: 3,4,3,1,2\n",
    "# After  1 day:  2,3,2,0,1\n",
    "# After  2 days: 1,2,1,6,0,8\n",
    "# After  3 days: 0,1,0,5,6,7,8\n",
    "# After  4 days: 6,0,6,4,5,6,7,8,8\n",
    "# After  5 days: 5,6,5,3,4,5,6,7,7,8\n",
    "# After  6 days: 4,5,4,2,3,4,5,6,6,7\n",
    "# After  7 days: 3,4,3,1,2,3,4,5,5,6\n",
    "# After  8 days: 2,3,2,0,1,2,3,4,4,5\n",
    "# After  9 days: 1,2,1,6,0,1,2,3,3,4,8\n",
    "# After 10 days: 0,1,0,5,6,0,1,2,2,3,7,8\n",
    "# After 11 days: 6,0,6,4,5,6,0,1,1,2,6,7,8,8,8\n",
    "# After 12 days: 5,6,5,3,4,5,6,0,0,1,5,6,7,7,7,8,8\n",
    "# After 13 days: 4,5,4,2,3,4,5,6,6,0,4,5,6,6,6,7,7,8,8\n",
    "# After 14 days: 3,4,3,1,2,3,4,5,5,6,3,4,5,5,5,6,6,7,7,8\n",
    "# After 15 days: 2,3,2,0,1,2,3,4,4,5,2,3,4,4,4,5,5,6,6,7\n",
    "# After 16 days: 1,2,1,6,0,1,2,3,3,4,1,2,3,3,3,4,4,5,5,6,8\n",
    "# After 17 days: 0,1,0,5,6,0,1,2,2,3,0,1,2,2,2,3,3,4,4,5,7,8\n",
    "# After 18 days: 6,0,6,4,5,6,0,1,1,2,6,0,1,1,1,2,2,3,3,4,6,7,8,8,8,8"
   ]
  },
  {
   "cell_type": "code",
   "execution_count": null,
   "metadata": {},
   "outputs": [],
   "source": []
  },
  {
   "cell_type": "code",
   "execution_count": null,
   "metadata": {},
   "outputs": [],
   "source": []
  }
 ],
 "metadata": {
  "interpreter": {
   "hash": "21d4d503e268fa88c26db53e90cf99431331df8cdb006f9d2c06005e749be52a"
  },
  "kernelspec": {
   "display_name": "aoc_python",
   "language": "python",
   "name": "aoc_python"
  },
  "language_info": {
   "codemirror_mode": {
    "name": "ipython",
    "version": 3
   },
   "file_extension": ".py",
   "mimetype": "text/x-python",
   "name": "python",
   "nbconvert_exporter": "python",
   "pygments_lexer": "ipython3",
   "version": "3.8.3"
  }
 },
 "nbformat": 4,
 "nbformat_minor": 5
}
