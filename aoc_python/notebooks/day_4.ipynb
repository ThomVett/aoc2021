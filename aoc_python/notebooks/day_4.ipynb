{
 "cells": [
  {
   "cell_type": "code",
   "execution_count": 16,
   "id": "1e316101",
   "metadata": {},
   "outputs": [
    {
     "name": "stdout",
     "output_type": "stream",
     "text": [
      "The autoreload extension is already loaded. To reload it, use:\n",
      "  %reload_ext autoreload\n"
     ]
    }
   ],
   "source": [
    "%load_ext autoreload\n",
    "%autoreload 2"
   ]
  },
  {
   "cell_type": "code",
   "execution_count": 95,
   "id": "49e7144b",
   "metadata": {},
   "outputs": [],
   "source": [
    "import os\n",
    "import numpy as np\n",
    "\n",
    "from aoc_python.constants import DATA_PATH, CURRENT_DIR"
   ]
  },
  {
   "cell_type": "code",
   "execution_count": 96,
   "id": "d86b83f3",
   "metadata": {},
   "outputs": [
    {
     "data": {
      "text/plain": [
       "'/Users/thomasvetterli/Projects/aoc2021/data'"
      ]
     },
     "execution_count": 96,
     "metadata": {},
     "output_type": "execute_result"
    }
   ],
   "source": [
    "DATA_PATH"
   ]
  },
  {
   "cell_type": "markdown",
   "id": "077be6f6",
   "metadata": {},
   "source": [
    "# Part 1"
   ]
  },
  {
   "cell_type": "code",
   "execution_count": 97,
   "id": "a6c93163",
   "metadata": {},
   "outputs": [],
   "source": [
    "day_4_data_path = os.path.join(DATA_PATH, \"day_4\")"
   ]
  },
  {
   "cell_type": "code",
   "execution_count": 127,
   "id": "b74593c8",
   "metadata": {},
   "outputs": [],
   "source": [
    "with open(os.path.join(day_4_data_path, \"day_4_test.txt\"), \"r\") as f:\n",
    "    lines = f.readlines()"
   ]
  },
  {
   "cell_type": "code",
   "execution_count": 128,
   "id": "89f5f0a2",
   "metadata": {},
   "outputs": [],
   "source": [
    "class BingoCard:\n",
    "    def __init__(self, values):\n",
    "        self.data = values\n",
    "        self.selected = np.zeros(shape=values.shape, dtype=bool)"
   ]
  },
  {
   "cell_type": "code",
   "execution_count": 129,
   "id": "d6f02a35",
   "metadata": {},
   "outputs": [],
   "source": [
    "bingo_card = np.zeros(shape=(5, 5))\n",
    "line_counter = 0\n",
    "bingo_cards = []\n",
    "row_counter = 0\n",
    "for line in lines:\n",
    "    line = line.rstrip(\"\\n\")\n",
    "    if line == \"\":\n",
    "        if line_counter > 2:\n",
    "            bingo_cards.append(BingoCard(bingo_card.copy()))\n",
    "            row_counter = 0\n",
    "\n",
    "    elif line_counter == 0:\n",
    "        bingo_numbers = np.array(line.split(\",\")).astype(int)\n",
    "\n",
    "    else:\n",
    "        line = line.rstrip(\" \").lstrip(\" \")\n",
    "        split_chars = line.split(\" \")\n",
    "        split_chars = [i for i in split_chars if i != \"\"]\n",
    "        bingo_num = np.array(split_chars).astype(int)\n",
    "        if len(bingo_num) < 5:\n",
    "            break\n",
    "        bingo_card[row_counter] = bingo_num\n",
    "        row_counter+=1\n",
    "    \n",
    "    line_counter += 1"
   ]
  },
  {
   "cell_type": "code",
   "execution_count": 130,
   "id": "dc99e1a3",
   "metadata": {},
   "outputs": [],
   "source": [
    "winning_card = None\n",
    "\n",
    "for bingo_number in bingo_numbers:\n",
    "    for bingo_card in bingo_cards:\n",
    "        bingo_card.selected = np.logical_or(bingo_card.data == bingo_number, bingo_card.selected)\n",
    "        \n",
    "    for bingo_card in bingo_cards:\n",
    "        if any(bingo_card.selected.sum(axis=0) == 5) or any(bingo_card.selected.sum(axis=1) == 5):\n",
    "            winning_card = bingo_card\n",
    "            break\n",
    "    if winning_card:\n",
    "        break"
   ]
  },
  {
   "cell_type": "code",
   "execution_count": 131,
   "id": "87bb6398",
   "metadata": {},
   "outputs": [
    {
     "data": {
      "text/plain": [
       "array([[14., 21., 17., 24.,  4.],\n",
       "       [10., 16., 15.,  9., 19.],\n",
       "       [18.,  8., 23., 26., 20.],\n",
       "       [22., 11., 13.,  6.,  5.],\n",
       "       [ 2.,  0., 12.,  3.,  7.]])"
      ]
     },
     "execution_count": 131,
     "metadata": {},
     "output_type": "execute_result"
    }
   ],
   "source": [
    "winning_card.data"
   ]
  },
  {
   "cell_type": "code",
   "execution_count": 132,
   "id": "f4cf42dd",
   "metadata": {},
   "outputs": [
    {
     "data": {
      "text/plain": [
       "array([[ True,  True,  True,  True,  True],\n",
       "       [False, False, False,  True, False],\n",
       "       [False, False,  True, False, False],\n",
       "       [False,  True, False, False,  True],\n",
       "       [ True,  True, False, False,  True]])"
      ]
     },
     "execution_count": 132,
     "metadata": {},
     "output_type": "execute_result"
    }
   ],
   "source": [
    "winning_card.selected"
   ]
  },
  {
   "cell_type": "code",
   "execution_count": 133,
   "id": "1f483c5c",
   "metadata": {},
   "outputs": [
    {
     "data": {
      "text/plain": [
       "4512.0"
      ]
     },
     "execution_count": 133,
     "metadata": {},
     "output_type": "execute_result"
    }
   ],
   "source": [
    "winning_card.data[~winning_card.selected].sum() * 24"
   ]
  }
 ],
 "metadata": {
  "kernelspec": {
   "display_name": "aoc_python",
   "language": "python",
   "name": "aoc_python"
  },
  "language_info": {
   "codemirror_mode": {
    "name": "ipython",
    "version": 3
   },
   "file_extension": ".py",
   "mimetype": "text/x-python",
   "name": "python",
   "nbconvert_exporter": "python",
   "pygments_lexer": "ipython3",
   "version": "3.8.3"
  }
 },
 "nbformat": 4,
 "nbformat_minor": 5
}
